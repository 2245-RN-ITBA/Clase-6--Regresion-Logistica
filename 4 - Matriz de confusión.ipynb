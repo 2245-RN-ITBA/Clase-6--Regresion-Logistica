{
 "cells": [
  {
   "cell_type": "markdown",
   "metadata": {},
   "source": [
    "# Matriz de confusión\n",
    "\n",
    "Sirve para medir la performance de un test (o un clasificador) supervisado. Condensa mucha información útil con respecto al test o clasificación realizados.\n",
    "\n",
    "<img src=\"confusion.png\"> "
   ]
  },
  {
   "cell_type": "markdown",
   "metadata": {},
   "source": [
    "* ¿Cuántos positivos hay en la muestra?\n",
    "* ¿Cuántos negativos hay en la muestra?\n",
    "* ¿Cuántos True Negatives hay en la clasificación?\n",
    "* ¿Cuántos True Positives hay en la clasificación?\n",
    "* ¿Cuántos False Negatives hay en la clasificación?\n",
    "* ¿Cuántos False Positives hay en la clasificación?\n",
    "\n",
    "* ¿Cuál es la sensibilidad (o recall)? $R=\\frac{TP}{P}=\\frac{TP}{TP+FN}$ \n",
    "\n",
    "La sensibilidad es siendo que alguien cumple con una condición, cuál es la probabilidad de que se detecte esa condición con un test determinado, por ejemplo, clasificación. Es el likelihood de Bayes. Ejemplo: $P(Positivo|Cáncer)$\n",
    "\n",
    "* ¿Cuál es la especificidad? $S=\\frac{TN}{N}=\\frac{TN}{TN+FP}$\n",
    "\n",
    "La especificidad es, siendo que alguien no cumple con una condición, cuál es la probabilidad de que de negativo un test de detección. Es el likelihood para la clase negativa. Ejemplo: $P(Negativo|No cáncer)$\n",
    "\n",
    "* ¿Cuál es el valor predictivo positivo o precisión? $VPP=\\frac{TP}{TP+FP}$\n",
    "\n",
    "Es, conociendo las probabilidades a priori, la sensibilidad y especificidad del test (likelihoods para ambas clases), y que el test resultó positivo, la probabilidad de que efectivamente la condición sea positiva. Es la probabilidad a posteriori en Bayes. Ejemplo $P(Cancer|Positivo)$.\n",
    "\n",
    "* ¿Cuál es el valor predictivo negativo? $VPN=\\frac{TN}{TN+FN}$\n",
    "\n",
    "* ¿Cuál es la exactitud (accuracy)? $Acc=\\frac{TP+TN}{P+N}$\n",
    "\n",
    "* ¿Cuál es el false negative rate? $\\frac{FN}{P}$\n",
    "\n",
    "Es la proporción de Positivos que fueron mal clasificados.\n",
    "\n",
    "* ¿Cuál es el false positive rate? $\\frac{FP}{N}$\n",
    "\n",
    "Es la proporción de Negativos que fueron mal clasificados."
   ]
  },
  {
   "cell_type": "code",
   "execution_count": null,
   "metadata": {},
   "outputs": [],
   "source": []
  }
 ],
 "metadata": {
  "kernelspec": {
   "display_name": "Python 3.7 (borrar)",
   "language": "python",
   "name": "borrar"
  },
  "language_info": {
   "codemirror_mode": {
    "name": "ipython",
    "version": 3
   },
   "file_extension": ".py",
   "mimetype": "text/x-python",
   "name": "python",
   "nbconvert_exporter": "python",
   "pygments_lexer": "ipython3",
   "version": "3.7.2"
  }
 },
 "nbformat": 4,
 "nbformat_minor": 2
}
