{
 "cells": [
  {
   "cell_type": "markdown",
   "metadata": {},
   "source": [
    "## Función softmax"
   ]
  },
  {
   "cell_type": "markdown",
   "metadata": {},
   "source": [
    "La funcion softmax es una exponencial normalizada. Se emplea para \"comprimir\" un vector K-dimensional, ${\\displaystyle \\mathbf {z} }$, de valores reales arbitrarios en un vector K-dimensional, ${\\displaystyle \\sigma (\\mathbf {z} )}$, de valores reales en el rango [0, 1].  \n",
    "La función está dada por:\n",
    "*\n",
    "$${\\displaystyle \\sigma :\\mathbb {R} ^{K}\\to [0,1]^{K}}$$  \n",
    "$${\\displaystyle \\sigma (\\mathbf {z} )_{c}= \\frac{e^{z_c}}{\\sum_{j=1}^C e^{z_j}} \\quad \\text{for} \\; c = 1 \\cdots C}$$\n",
    "\n",
    "Devuelve una distribucion entre 0 y 1 que concentra la probabilidad en el componente maximo del vector. \n",
    "\n"
   ]
  },
  {
   "cell_type": "code",
   "execution_count": 88,
   "metadata": {},
   "outputs": [
    {
     "name": "stdout",
     "output_type": "stream",
     "text": [
      "[2.72, 7.39, 20.09, 54.6, 2.72, 7.39]\n"
     ]
    }
   ],
   "source": [
    "import numpy as np\n",
    "z = [1.0, 2.0, 3.0, 4.0, 1.0, 2.0]\n",
    "z_exp = [np.exp(i) for i in z]\n",
    "print([round(i, 2) for i in z_exp])\n"
   ]
  },
  {
   "cell_type": "code",
   "execution_count": 89,
   "metadata": {},
   "outputs": [
    {
     "name": "stdout",
     "output_type": "stream",
     "text": [
      "94.9\n"
     ]
    }
   ],
   "source": [
    "sum_z_exp = sum(z_exp)\n",
    "print(round(sum_z_exp, 2))"
   ]
  },
  {
   "cell_type": "code",
   "execution_count": 90,
   "metadata": {},
   "outputs": [
    {
     "name": "stdout",
     "output_type": "stream",
     "text": [
      "[0.029, 0.078, 0.212, 0.575, 0.029, 0.078]\n"
     ]
    }
   ],
   "source": [
    "softmax = [i / sum_z_exp for i in z_exp]\n",
    "print([round(i, 3) for i in softmax])"
   ]
  },
  {
   "cell_type": "markdown",
   "metadata": {},
   "source": [
    "Notamos que la mayor probabilidad es la de la componente 3, que era el maximo del z original. La función softmax resaltará los mayores valores y suprimirá los menores valores. \n"
   ]
  },
  {
   "cell_type": "code",
   "execution_count": 41,
   "metadata": {},
   "outputs": [],
   "source": [
    "def softmax(z):\n",
    "    \"\"\"Softmax function\"\"\"\n",
    "    return [...te toca implementar]"
   ]
  },
  {
   "cell_type": "markdown",
   "metadata": {},
   "source": [
    "¿Es invariante escalar? \n",
    "\n",
    "¿softmax($\\lambda$z) = $\\lambda$ softmax(z)?"
   ]
  },
  {
   "cell_type": "code",
   "execution_count": 1,
   "metadata": {},
   "outputs": [],
   "source": [
    "small_z = [i*0.01 for i in z]\n",
    "[...te toca implementar]"
   ]
  },
  {
   "cell_type": "markdown",
   "metadata": {},
   "source": [
    "¿Qué pasa con la distribucion de probabilidad? ¿Seguimos teniendo la máxima probabilidad en el componente 3? En comparación a la entrada, componente 3 a la salida del softmax ¿se ve más resaltada o se desenfatiza?  Sacá conclusiones para el efecto de la función softmax en entradas que tienen rango [0,1]"
   ]
  },
  {
   "cell_type": "markdown",
   "metadata": {},
   "source": [
    "Calculá la función softmax para dos variables de 1000 componentes en el rango [-10,10]. Graficá el valor de la primera componente de la softmax de salida. ¿A qué función te recuerda? Debés generar un plot para obtener una imagen como la de abajo. Notá cómo la probabilidad graficada (la primera componente de la salida de softmax) es más alta (amarilla) cuanto mayor es la primera variable en comparación a la segunda variable. "
   ]
  },
  {
   "cell_type": "markdown",
   "metadata": {},
   "source": [
    "<img src=\"softmax_superficie.jpg\" alt=\"Drawing\" style=\"width:80%;\"/>"
   ]
  },
  {
   "cell_type": "code",
   "execution_count": null,
   "metadata": {},
   "outputs": [],
   "source": [
    "[...te toca implementar]"
   ]
  },
  {
   "cell_type": "markdown",
   "metadata": {},
   "source": [
    "## Regresión softmax"
   ]
  },
  {
   "cell_type": "markdown",
   "metadata": {},
   "source": [
    "Si se tiene una muestra $(X,Y)$ de $n$ observaciones, buscaremos parametrizar un modelo con aquel conjunto $\\omega$ de parámetros que maximice el likelihood de obtener el conjunto de salidas $Y$ para el conjunto de entradas $X$:\n",
    "$$ \\underset{\\theta}{\\text{argmax}}\\; \\mathcal{L}(\\omega|\\mathbf{X},\\mathbf{Y}) $$\n",
    "\n",
    "Esto es lo mismo que minimizar la inversa del logaritmo del likelihood, que se conoce como el error. Asumiendo que las variables son independientes, el likelihood es la probabilidad conjunta de observar la salida dado el valor de cada variable. Se convierte en sumatoria al tomar logaritmo\n",
    "$$\\begin{align*} -\\log \\mathcal{L}(\\omega|\\mathbf{X},\\mathbf{Y}) \n",
    "&= \\xi(\\mathbf{X},\\mathbf{Y}) \\rightarrow \\text{Error}  \\\\ &=  \\sum_{i=1}^n \\xi(\\mathbf{x}_i,\\mathbf{y}_i) \\\\ &= -\\sum_{i=1}^n \\sum_{i=c}^{C} y_{ic} \\cdot \\log( P_{ic}) \\end{align*}$$\n",
    "\n",
    "\n",
    "donde $y_{ic}$ es 1 si y solo si la muestra $i$ pertenece a la clase $c$.\n",
    "\n",
    "y donde $P_{ic}$ es la probabilidad de que la muestra $i$ pertenezca a la clase c."
   ]
  },
  {
   "cell_type": "markdown",
   "metadata": {},
   "source": [
    "¿Cómo modelamos $P_{ic}$? ¡¡¡con softmax!!! \n",
    "\n",
    "\n",
    "$$ P_{ic} = \\frac{e^{\\mathbf{\\omega} x_{i}}}{\\sum_{c=1}^C e^{\\mathbf{\\omega} x_{i}}} \\quad $$\n",
    "\n",
    "Podemos entonces utilizar regresión logística para minimizar esta nueva función de error. "
   ]
  },
  {
   "cell_type": "markdown",
   "metadata": {},
   "source": [
    "## Clasificación multiclase"
   ]
  },
  {
   "cell_type": "markdown",
   "metadata": {},
   "source": [
    "Para este ejemplo vamos a utilizar el dataset de lesiones dermatológicas. Esta vez aplicaremos regresión logística para clasificar las lesiones en seis posibles patologías, según variables clínicas e histopatológicas. "
   ]
  },
  {
   "cell_type": "code",
   "execution_count": 32,
   "metadata": {},
   "outputs": [],
   "source": [
    "pathology_names = (\"psoriasis\", \n",
    "                   \"seboreic dermatitis\", \n",
    "                   \"lichen planus\", \n",
    "                   \"pityriasis rosea\", \n",
    "                   \"cronic dermatitis\", \n",
    "                   \"pityriasis rubra pilaris\") "
   ]
  },
  {
   "cell_type": "code",
   "execution_count": 33,
   "metadata": {},
   "outputs": [],
   "source": [
    "histological_variables= [\"melanin incontinence\"\n",
    "        , \"eosinophils in the infiltrate\"\n",
    "        , \"PNL infiltrate\"\n",
    "        , \"fibrosis of the papillary dermis\"\n",
    "        , \"exocytosis\"\n",
    "        , \"acanthosis\"\n",
    "        , \"hyperkeratosis\"\n",
    "        , \"parakeratosis\"\n",
    "        , \"clubbing of the rete ridges\"\n",
    "        , \"elongation of the rete ridges\"\n",
    "        , \"thinning of the suprapapillary epidermis\"\n",
    "        , \"spongiform pustule\"\n",
    "        , \"munro microabcess\"\n",
    "        , \"focal hypergranulosis\"\n",
    "        , \"disappearance of the granular layer\"\n",
    "        , \"vacuolisation and damage of basal layer\"\n",
    "        , \"spongiosis\"\n",
    "        ,\"saw-tooth appearance of retes\"\n",
    "        ,\"follicular horn plug\"\n",
    "        ,\"perifollicular parakeratosis\"\n",
    "        ,\"inflammatory monoluclear inflitrate\"\n",
    "        ,\"band-like infiltrate\"]\n",
    "\n",
    "clinical_variables = [\"erythema\"\n",
    "        , \"scaling\"\n",
    "        , \"definite borders\"\n",
    "        , \"itching\"\n",
    "        , \"koebner phenomenon\"\n",
    "        , \"polygonal papules\"\n",
    "        , \"follicular papules\"\n",
    "        , \"oral mucosal involvement\"\n",
    "        , \"knee and elbow involvement\"\n",
    "        , \"scalp involvement\"\n",
    "        , \"family history\"]\n",
    "variable_names = clinical_variables + histological_variables\n",
    "variable_names.append(\"Age\")\n"
   ]
  },
  {
   "cell_type": "code",
   "execution_count": 34,
   "metadata": {},
   "outputs": [],
   "source": [
    "\n",
    "import pandas as pd\n",
    "import numpy as np\n",
    "dataframe = pd.read_csv(\"https://raw.githubusercontent.com/rn-2019-itba/Clase-6--Regresion-Logistica/master/data_dermato.csv\",names=variable_names+[\"Clase\"],index_col=False)"
   ]
  },
  {
   "cell_type": "code",
   "execution_count": 35,
   "metadata": {},
   "outputs": [
    {
     "data": {
      "text/html": [
       "<div>\n",
       "<style scoped>\n",
       "    .dataframe tbody tr th:only-of-type {\n",
       "        vertical-align: middle;\n",
       "    }\n",
       "\n",
       "    .dataframe tbody tr th {\n",
       "        vertical-align: top;\n",
       "    }\n",
       "\n",
       "    .dataframe thead th {\n",
       "        text-align: right;\n",
       "    }\n",
       "</style>\n",
       "<table border=\"1\" class=\"dataframe\">\n",
       "  <thead>\n",
       "    <tr style=\"text-align: right;\">\n",
       "      <th></th>\n",
       "      <th>erythema</th>\n",
       "      <th>scaling</th>\n",
       "      <th>definite borders</th>\n",
       "      <th>itching</th>\n",
       "      <th>koebner phenomenon</th>\n",
       "      <th>polygonal papules</th>\n",
       "      <th>follicular papules</th>\n",
       "      <th>oral mucosal involvement</th>\n",
       "      <th>knee and elbow involvement</th>\n",
       "      <th>scalp involvement</th>\n",
       "      <th>...</th>\n",
       "      <th>disappearance of the granular layer</th>\n",
       "      <th>vacuolisation and damage of basal layer</th>\n",
       "      <th>spongiosis</th>\n",
       "      <th>saw-tooth appearance of retes</th>\n",
       "      <th>follicular horn plug</th>\n",
       "      <th>perifollicular parakeratosis</th>\n",
       "      <th>inflammatory monoluclear inflitrate</th>\n",
       "      <th>band-like infiltrate</th>\n",
       "      <th>Age</th>\n",
       "      <th>Clase</th>\n",
       "    </tr>\n",
       "  </thead>\n",
       "  <tbody>\n",
       "    <tr>\n",
       "      <th>0</th>\n",
       "      <td>2</td>\n",
       "      <td>2</td>\n",
       "      <td>0</td>\n",
       "      <td>3</td>\n",
       "      <td>0</td>\n",
       "      <td>0</td>\n",
       "      <td>0</td>\n",
       "      <td>0</td>\n",
       "      <td>1</td>\n",
       "      <td>0</td>\n",
       "      <td>...</td>\n",
       "      <td>0</td>\n",
       "      <td>0</td>\n",
       "      <td>3</td>\n",
       "      <td>0</td>\n",
       "      <td>0</td>\n",
       "      <td>0</td>\n",
       "      <td>1</td>\n",
       "      <td>0</td>\n",
       "      <td>55</td>\n",
       "      <td>2</td>\n",
       "    </tr>\n",
       "    <tr>\n",
       "      <th>1</th>\n",
       "      <td>3</td>\n",
       "      <td>3</td>\n",
       "      <td>3</td>\n",
       "      <td>2</td>\n",
       "      <td>1</td>\n",
       "      <td>0</td>\n",
       "      <td>0</td>\n",
       "      <td>0</td>\n",
       "      <td>1</td>\n",
       "      <td>1</td>\n",
       "      <td>...</td>\n",
       "      <td>0</td>\n",
       "      <td>0</td>\n",
       "      <td>0</td>\n",
       "      <td>0</td>\n",
       "      <td>0</td>\n",
       "      <td>0</td>\n",
       "      <td>1</td>\n",
       "      <td>0</td>\n",
       "      <td>8</td>\n",
       "      <td>1</td>\n",
       "    </tr>\n",
       "    <tr>\n",
       "      <th>2</th>\n",
       "      <td>2</td>\n",
       "      <td>1</td>\n",
       "      <td>2</td>\n",
       "      <td>3</td>\n",
       "      <td>1</td>\n",
       "      <td>3</td>\n",
       "      <td>0</td>\n",
       "      <td>3</td>\n",
       "      <td>0</td>\n",
       "      <td>0</td>\n",
       "      <td>...</td>\n",
       "      <td>0</td>\n",
       "      <td>2</td>\n",
       "      <td>3</td>\n",
       "      <td>2</td>\n",
       "      <td>0</td>\n",
       "      <td>0</td>\n",
       "      <td>2</td>\n",
       "      <td>3</td>\n",
       "      <td>26</td>\n",
       "      <td>3</td>\n",
       "    </tr>\n",
       "    <tr>\n",
       "      <th>3</th>\n",
       "      <td>2</td>\n",
       "      <td>2</td>\n",
       "      <td>2</td>\n",
       "      <td>0</td>\n",
       "      <td>0</td>\n",
       "      <td>0</td>\n",
       "      <td>0</td>\n",
       "      <td>0</td>\n",
       "      <td>3</td>\n",
       "      <td>2</td>\n",
       "      <td>...</td>\n",
       "      <td>3</td>\n",
       "      <td>0</td>\n",
       "      <td>0</td>\n",
       "      <td>0</td>\n",
       "      <td>0</td>\n",
       "      <td>0</td>\n",
       "      <td>3</td>\n",
       "      <td>0</td>\n",
       "      <td>40</td>\n",
       "      <td>1</td>\n",
       "    </tr>\n",
       "    <tr>\n",
       "      <th>4</th>\n",
       "      <td>2</td>\n",
       "      <td>3</td>\n",
       "      <td>2</td>\n",
       "      <td>2</td>\n",
       "      <td>2</td>\n",
       "      <td>2</td>\n",
       "      <td>0</td>\n",
       "      <td>2</td>\n",
       "      <td>0</td>\n",
       "      <td>0</td>\n",
       "      <td>...</td>\n",
       "      <td>2</td>\n",
       "      <td>3</td>\n",
       "      <td>2</td>\n",
       "      <td>3</td>\n",
       "      <td>0</td>\n",
       "      <td>0</td>\n",
       "      <td>2</td>\n",
       "      <td>3</td>\n",
       "      <td>45</td>\n",
       "      <td>3</td>\n",
       "    </tr>\n",
       "  </tbody>\n",
       "</table>\n",
       "<p>5 rows × 35 columns</p>\n",
       "</div>"
      ],
      "text/plain": [
       "   erythema  scaling  definite borders  itching  koebner phenomenon  \\\n",
       "0         2        2                 0        3                   0   \n",
       "1         3        3                 3        2                   1   \n",
       "2         2        1                 2        3                   1   \n",
       "3         2        2                 2        0                   0   \n",
       "4         2        3                 2        2                   2   \n",
       "\n",
       "   polygonal papules  follicular papules  oral mucosal involvement  \\\n",
       "0                  0                   0                         0   \n",
       "1                  0                   0                         0   \n",
       "2                  3                   0                         3   \n",
       "3                  0                   0                         0   \n",
       "4                  2                   0                         2   \n",
       "\n",
       "   knee and elbow involvement  scalp involvement  ...    \\\n",
       "0                           1                  0  ...     \n",
       "1                           1                  1  ...     \n",
       "2                           0                  0  ...     \n",
       "3                           3                  2  ...     \n",
       "4                           0                  0  ...     \n",
       "\n",
       "   disappearance of the granular layer  \\\n",
       "0                                    0   \n",
       "1                                    0   \n",
       "2                                    0   \n",
       "3                                    3   \n",
       "4                                    2   \n",
       "\n",
       "   vacuolisation and damage of basal layer  spongiosis  \\\n",
       "0                                        0           3   \n",
       "1                                        0           0   \n",
       "2                                        2           3   \n",
       "3                                        0           0   \n",
       "4                                        3           2   \n",
       "\n",
       "   saw-tooth appearance of retes  follicular horn plug  \\\n",
       "0                              0                     0   \n",
       "1                              0                     0   \n",
       "2                              2                     0   \n",
       "3                              0                     0   \n",
       "4                              3                     0   \n",
       "\n",
       "   perifollicular parakeratosis  inflammatory monoluclear inflitrate  \\\n",
       "0                             0                                    1   \n",
       "1                             0                                    1   \n",
       "2                             0                                    2   \n",
       "3                             0                                    3   \n",
       "4                             0                                    2   \n",
       "\n",
       "   band-like infiltrate  Age  Clase  \n",
       "0                     0   55      2  \n",
       "1                     0    8      1  \n",
       "2                     3   26      3  \n",
       "3                     0   40      1  \n",
       "4                     3   45      3  \n",
       "\n",
       "[5 rows x 35 columns]"
      ]
     },
     "execution_count": 35,
     "metadata": {},
     "output_type": "execute_result"
    }
   ],
   "source": [
    "dataframe.head()"
   ]
  },
  {
   "cell_type": "code",
   "execution_count": 36,
   "metadata": {},
   "outputs": [
    {
     "name": "stdout",
     "output_type": "stream",
     "text": [
      "Cantidad de pacientes:  366\n",
      "Cantidad de variables por paciente:  34\n"
     ]
    }
   ],
   "source": [
    "data_variables = dataframe[dataframe.columns[:-1]].values #Selecciono las 33 variables clinicas e histológicas. Para convertirlo a array, uso .values\n",
    "print(\"Cantidad de pacientes: \", data_variables.shape[0])\n",
    "print(\"Cantidad de variables por paciente: \", data_variables.shape[1])"
   ]
  },
  {
   "cell_type": "code",
   "execution_count": 37,
   "metadata": {},
   "outputs": [
    {
     "name": "stdout",
     "output_type": "stream",
     "text": [
      "Cantidad de etiquetas de diagnóstico:  366\n",
      "[2 1 3 1 3 2 5 3 4 4 1 2 2 1 3 4 2 1 3 5 6 2 5 3 5 1 6 5 2 3 1 2 1 1 4 2 3\n",
      " 2 3 1 2 4 1 2 5 3 4 6 2 3 3 4 1 1 5 1 2 3 4 2 6 1 5 1 2 3 1 4 5 1 2 6 3 5\n",
      " 4 2 2 1 3 5 1 2 2 2 5 1 1 3 1 4 2 2 5 1 3 4 2 5 1 6 2 5 1 2 2 1 4 1 3 1 1\n",
      " 3 5 3 3 5 2 3 4 1 2 5 6 1 1 2 6 3 5 4 1 1 3 5 5 1 4 2 3 1 2 1 1 3 3 3 2 5\n",
      " 4 2 2 1 1 1 5 3 2 3 2 2 4 2 3 6 2 1 1 3 4 3 3 1 1 1 3 1 1 2 3 3 1 1 1 1 6\n",
      " 2 2 2 2 1 3 3 3 1 1 2 3 2 2 2 5 5 5 5 5 1 1 1 1 1 1 1 3 3 3 3 3 3 4 4 4 4\n",
      " 5 5 5 5 5 5 5 2 2 2 2 1 1 1 1 1 1 6 6 1 1 1 1 1 1 1 1 3 3 3 3 3 3 3 4 4 4\n",
      " 4 4 4 5 5 5 5 6 6 6 4 4 4 1 1 1 1 1 2 2 4 4 4 1 1 2 2 2 3 3 3 3 1 1 1 1 5\n",
      " 5 5 5 5 3 3 3 4 1 1 4 4 4 1 1 1 3 3 3 3 3 1 1 1 1 4 4 1 1 4 3 3 4 1 1 4 4\n",
      " 5 5 1 1 5 5 3 1 5 5 6 6 4 4 6 6 6 1 1 1 5 5 1 1 1 1 2 2 4 4 3 3 1]\n"
     ]
    }
   ],
   "source": [
    "data_targets = dataframe[dataframe.columns[-1]].values\n",
    "print(\"Cantidad de etiquetas de diagnóstico: \", data_targets.shape[0])\n",
    "print(data_targets)"
   ]
  },
  {
   "cell_type": "markdown",
   "metadata": {},
   "source": [
    "**Consigna A:** \n",
    "\n",
    "**(1)**Dividir el dataset en un 70% para entrenar y 30% para testeo. \n",
    "\n",
    "**(2)**Utilizando la función LogisticRegression de sklearn, con el parámetro multi_class='multinomial', se genera un modelo de regresión softmax. Ajustar el modelo con el subset de entrenamiento.\n",
    "\n",
    "**(3)**Informar el valor de accuracy obtenido para predecir en el subset de testeo. \n",
    "\n",
    "**(4)**Crear un nuevo subset de train normalizando cada variable con su media y su desvío estándar. \n",
    "\n",
    "**(5)**Repetir (2) para el nuevo subset normalizado y comparar los tiempos de ejecución. Comparar también el accuracy obtenido en testeo. "
   ]
  },
  {
   "cell_type": "code",
   "execution_count": null,
   "metadata": {},
   "outputs": [],
   "source": [
    "#(1)\n",
    "from sklearn.model_selection import train_test_split\n",
    "\n",
    "[...te toca implementar]"
   ]
  },
  {
   "cell_type": "code",
   "execution_count": null,
   "metadata": {},
   "outputs": [],
   "source": [
    "#(2)\n",
    "from sklearn.linear_model import LogisticRegression\n",
    "\n",
    "[...te toca implementar]"
   ]
  },
  {
   "cell_type": "code",
   "execution_count": null,
   "metadata": {},
   "outputs": [],
   "source": [
    "#(3)\n",
    "\n",
    "[...te toca implementar]\n",
    "predictions = ...\n",
    "porc=sum(predictions==Y_test)/Y_test.shape[0]*100\n",
    "print(\"El porcentaje de lesiones clasificados correctamente es: {}%\".format(porc))"
   ]
  },
  {
   "cell_type": "code",
   "execution_count": null,
   "metadata": {},
   "outputs": [],
   "source": [
    "#(4)\n",
    "medias = ...\n",
    "desvios = ...\n",
    "\n",
    "X_train_normalizado = ..\n",
    "\n",
    "\n",
    "[...te toca implementar]"
   ]
  },
  {
   "cell_type": "code",
   "execution_count": null,
   "metadata": {},
   "outputs": [],
   "source": [
    "#(5)\n",
    "import time \n",
    "start_time = time.time()\n",
    "[...te toca implementar]\n",
    "\n",
    "end_time = time.time()\n",
    "print('Tiempo de ejecución: ', end_time-start_time)"
   ]
  },
  {
   "cell_type": "markdown",
   "metadata": {},
   "source": [
    "**Gráfico**"
   ]
  },
  {
   "cell_type": "markdown",
   "metadata": {},
   "source": [
    "Para poder graficar en tres dimensiones vamos a tomar solo dos variables. Además, debemos definir una clase de salida y así graficar su superficie de frontera."
   ]
  },
  {
   "cell_type": "code",
   "execution_count": 85,
   "metadata": {},
   "outputs": [
    {
     "name": "stdout",
     "output_type": "stream",
     "text": [
      "(256,) (256,) (256,)\n",
      "(256, 256) (256, 256) (256, 256)\n"
     ]
    }
   ],
   "source": [
    "import matplotlib.tri as tri\n",
    "clss_index = pathology_names.index('psoriasis')\n",
    "itchs = X_train[:,variable_names.index('itching')]\n",
    "scals = X_train[:,variable_names.index('scaling')]\n",
    "z = probs[:,clss_index]\n",
    "triang = tri.Triangulation(itchs, scals)\n",
    "interpolator = tri.LinearTriInterpolator(triang, z)\n",
    "Xi, Yi = np.meshgrid(itchs, scals)\n",
    "zi = interpolator(Xi, Yi)\n",
    "\n",
    "#z =np.array([probs[:,0], 1-probs[:,0]])\n",
    "\n",
    "#itchs,scals = np.meshgrid(itchs,scals)\n",
    "print(itchs.shape, scals.shape, z.shape)\n",
    "print(Xi.shape, Yi.shape, zi.shape)"
   ]
  },
  {
   "cell_type": "code",
   "execution_count": 86,
   "metadata": {},
   "outputs": [
    {
     "data": {
      "image/png": "[encoded data removed]",
      "text/plain": [
       "<Figure size 1440x720 with 1 Axes>"
      ]
     },
     "metadata": {
      "needs_background": "light"
     },
     "output_type": "display_data"
    }
   ],
   "source": [
    "%matplotlib inline\n",
    "from matplotlib import cm\n",
    "from mpl_toolkits.mplot3d import Axes3D\n",
    "from matplotlib.colors import ListedColormap\n",
    "fig = plt.figure(figsize=(20,10))\n",
    "ax = fig.gca(projection='3d')\n",
    "cm = plt.cm.RdBu\n",
    "\n",
    "ax.contourf(Xi, Yi, zi , 256)\n",
    "#ax.view_init(70, -90)\n",
    "ax.set_ylabel('Itching')\n",
    "ax.set_xlabel('Scaling')\n",
    "ax.set_zlabel('Probabilidad de ser ' + pathology_names[clss_index])\n",
    "plt.show()"
   ]
  },
  {
   "cell_type": "markdown",
   "metadata": {},
   "source": [
    "¿Te parece que es más probable tener psoriasis con un alto valor de itching o con un alto valor de scaling?"
   ]
  },
  {
   "cell_type": "markdown",
   "metadata": {},
   "source": [
    "**Consigna B:**\n",
    "\n",
    "Repetir el mismo gráfico para la clase **lichen planus** con itching y scaling. ¿Es la misma superficie que para psoriasis? ¿Cuánto valen $\\omega_{scaling}$ y $\\omega_{itching}$? "
   ]
  },
  {
   "cell_type": "markdown",
   "metadata": {},
   "source": [
    "**Consigna C:**\n",
    "\n",
    "(1) Repetir la A(2) pero implementando un modelo de Keras: 34 entradas, 6 salidas de activación softmax. Reportar el accuracy en el set de test luego de 10 epochs con batch_size = 8.\n",
    "(2) Repetir para un modelo con una capa oculta de 10 unidades."
   ]
  },
  {
   "cell_type": "code",
   "execution_count": null,
   "metadata": {},
   "outputs": [],
   "source": []
  }
 ],
 "metadata": {
  "kernelspec": {
   "display_name": "Python 3",
   "language": "python",
   "name": "python3"
  },
  "language_info": {
   "codemirror_mode": {
    "name": "ipython",
    "version": 3
   },
   "file_extension": ".py",
   "mimetype": "text/x-python",
   "name": "python",
   "nbconvert_exporter": "python",
   "pygments_lexer": "ipython3",
   "version": "3.7.2"
  }
 },
 "nbformat": 4,
 "nbformat_minor": 2
}
